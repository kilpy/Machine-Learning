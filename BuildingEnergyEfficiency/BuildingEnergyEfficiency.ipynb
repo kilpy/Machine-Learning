{
 "cells": [
  {
   "cell_type": "markdown",
   "id": "a8a2a260",
   "metadata": {},
   "source": [
    "## Imports:"
   ]
  },
  {
   "cell_type": "code",
   "execution_count": 191,
   "id": "11752929",
   "metadata": {},
   "outputs": [],
   "source": [
    "import numpy as np\n",
    "import pandas as pd\n",
    "\n",
    "import sklearn as skl\n",
    "import sklearn.preprocessing as preproc\n",
    "from sklearn.model_selection import train_test_split\n",
    "import sklearn.model_selection as modsel\n",
    "from sklearn.metrics import precision_score, recall_score, f1_score, accuracy_score, confusion_matrix, ConfusionMatrixDisplay\n",
    "from sklearn.linear_model import LogisticRegression\n",
    "from sklearn.tree import DecisionTreeClassifier\n",
    "from imblearn.over_sampling import ADASYN\n",
    "from sklearn.preprocessing import StandardScaler\n",
    "from sklearn.pipeline import Pipeline\n",
    "from sklearn.neighbors import KNeighborsClassifier\n",
    "from sklearn.linear_model import LinearRegression\n",
    "from sklearn.metrics import mean_squared_error, r2_score, explained_variance_score\n",
    "from sklearn.linear_model import Lasso\n",
    "from sklearn.pipeline import make_pipeline\n",
    "from sklearn.linear_model import SGDRegressor\n",
    "\n",
    "import matplotlib.pyplot as plt\n",
    "\n",
    "from keras.models import Sequential\n",
    "from keras.layers import Dense\n",
    "import keras\n",
    "import tensorflow as tf"
   ]
  },
  {
   "cell_type": "markdown",
   "id": "0523111f",
   "metadata": {},
   "source": [
    "# Energy Efficiency"
   ]
  },
  {
   "cell_type": "code",
   "execution_count": 124,
   "id": "69527341",
   "metadata": {},
   "outputs": [
    {
     "data": {
      "text/html": [
       "<div>\n",
       "<style scoped>\n",
       "    .dataframe tbody tr th:only-of-type {\n",
       "        vertical-align: middle;\n",
       "    }\n",
       "\n",
       "    .dataframe tbody tr th {\n",
       "        vertical-align: top;\n",
       "    }\n",
       "\n",
       "    .dataframe thead th {\n",
       "        text-align: right;\n",
       "    }\n",
       "</style>\n",
       "<table border=\"1\" class=\"dataframe\">\n",
       "  <thead>\n",
       "    <tr style=\"text-align: right;\">\n",
       "      <th></th>\n",
       "      <th>X1</th>\n",
       "      <th>X2</th>\n",
       "      <th>X3</th>\n",
       "      <th>X4</th>\n",
       "      <th>X5</th>\n",
       "      <th>X6</th>\n",
       "      <th>X7</th>\n",
       "      <th>X8</th>\n",
       "      <th>Y1</th>\n",
       "      <th>Y2</th>\n",
       "    </tr>\n",
       "  </thead>\n",
       "  <tbody>\n",
       "    <tr>\n",
       "      <th>0</th>\n",
       "      <td>0.98</td>\n",
       "      <td>514.5</td>\n",
       "      <td>294.0</td>\n",
       "      <td>110.25</td>\n",
       "      <td>7.0</td>\n",
       "      <td>2</td>\n",
       "      <td>0.0</td>\n",
       "      <td>0</td>\n",
       "      <td>15.55</td>\n",
       "      <td>21.33</td>\n",
       "    </tr>\n",
       "    <tr>\n",
       "      <th>1</th>\n",
       "      <td>0.98</td>\n",
       "      <td>514.5</td>\n",
       "      <td>294.0</td>\n",
       "      <td>110.25</td>\n",
       "      <td>7.0</td>\n",
       "      <td>3</td>\n",
       "      <td>0.0</td>\n",
       "      <td>0</td>\n",
       "      <td>15.55</td>\n",
       "      <td>21.33</td>\n",
       "    </tr>\n",
       "    <tr>\n",
       "      <th>2</th>\n",
       "      <td>0.98</td>\n",
       "      <td>514.5</td>\n",
       "      <td>294.0</td>\n",
       "      <td>110.25</td>\n",
       "      <td>7.0</td>\n",
       "      <td>4</td>\n",
       "      <td>0.0</td>\n",
       "      <td>0</td>\n",
       "      <td>15.55</td>\n",
       "      <td>21.33</td>\n",
       "    </tr>\n",
       "    <tr>\n",
       "      <th>3</th>\n",
       "      <td>0.98</td>\n",
       "      <td>514.5</td>\n",
       "      <td>294.0</td>\n",
       "      <td>110.25</td>\n",
       "      <td>7.0</td>\n",
       "      <td>5</td>\n",
       "      <td>0.0</td>\n",
       "      <td>0</td>\n",
       "      <td>15.55</td>\n",
       "      <td>21.33</td>\n",
       "    </tr>\n",
       "    <tr>\n",
       "      <th>4</th>\n",
       "      <td>0.90</td>\n",
       "      <td>563.5</td>\n",
       "      <td>318.5</td>\n",
       "      <td>122.50</td>\n",
       "      <td>7.0</td>\n",
       "      <td>2</td>\n",
       "      <td>0.0</td>\n",
       "      <td>0</td>\n",
       "      <td>20.84</td>\n",
       "      <td>28.28</td>\n",
       "    </tr>\n",
       "    <tr>\n",
       "      <th>...</th>\n",
       "      <td>...</td>\n",
       "      <td>...</td>\n",
       "      <td>...</td>\n",
       "      <td>...</td>\n",
       "      <td>...</td>\n",
       "      <td>...</td>\n",
       "      <td>...</td>\n",
       "      <td>...</td>\n",
       "      <td>...</td>\n",
       "      <td>...</td>\n",
       "    </tr>\n",
       "    <tr>\n",
       "      <th>763</th>\n",
       "      <td>0.64</td>\n",
       "      <td>784.0</td>\n",
       "      <td>343.0</td>\n",
       "      <td>220.50</td>\n",
       "      <td>3.5</td>\n",
       "      <td>5</td>\n",
       "      <td>0.4</td>\n",
       "      <td>5</td>\n",
       "      <td>17.88</td>\n",
       "      <td>21.40</td>\n",
       "    </tr>\n",
       "    <tr>\n",
       "      <th>764</th>\n",
       "      <td>0.62</td>\n",
       "      <td>808.5</td>\n",
       "      <td>367.5</td>\n",
       "      <td>220.50</td>\n",
       "      <td>3.5</td>\n",
       "      <td>2</td>\n",
       "      <td>0.4</td>\n",
       "      <td>5</td>\n",
       "      <td>16.54</td>\n",
       "      <td>16.88</td>\n",
       "    </tr>\n",
       "    <tr>\n",
       "      <th>765</th>\n",
       "      <td>0.62</td>\n",
       "      <td>808.5</td>\n",
       "      <td>367.5</td>\n",
       "      <td>220.50</td>\n",
       "      <td>3.5</td>\n",
       "      <td>3</td>\n",
       "      <td>0.4</td>\n",
       "      <td>5</td>\n",
       "      <td>16.44</td>\n",
       "      <td>17.11</td>\n",
       "    </tr>\n",
       "    <tr>\n",
       "      <th>766</th>\n",
       "      <td>0.62</td>\n",
       "      <td>808.5</td>\n",
       "      <td>367.5</td>\n",
       "      <td>220.50</td>\n",
       "      <td>3.5</td>\n",
       "      <td>4</td>\n",
       "      <td>0.4</td>\n",
       "      <td>5</td>\n",
       "      <td>16.48</td>\n",
       "      <td>16.61</td>\n",
       "    </tr>\n",
       "    <tr>\n",
       "      <th>767</th>\n",
       "      <td>0.62</td>\n",
       "      <td>808.5</td>\n",
       "      <td>367.5</td>\n",
       "      <td>220.50</td>\n",
       "      <td>3.5</td>\n",
       "      <td>5</td>\n",
       "      <td>0.4</td>\n",
       "      <td>5</td>\n",
       "      <td>16.64</td>\n",
       "      <td>16.03</td>\n",
       "    </tr>\n",
       "  </tbody>\n",
       "</table>\n",
       "<p>768 rows × 10 columns</p>\n",
       "</div>"
      ],
      "text/plain": [
       "       X1     X2     X3      X4   X5  X6   X7  X8     Y1     Y2\n",
       "0    0.98  514.5  294.0  110.25  7.0   2  0.0   0  15.55  21.33\n",
       "1    0.98  514.5  294.0  110.25  7.0   3  0.0   0  15.55  21.33\n",
       "2    0.98  514.5  294.0  110.25  7.0   4  0.0   0  15.55  21.33\n",
       "3    0.98  514.5  294.0  110.25  7.0   5  0.0   0  15.55  21.33\n",
       "4    0.90  563.5  318.5  122.50  7.0   2  0.0   0  20.84  28.28\n",
       "..    ...    ...    ...     ...  ...  ..  ...  ..    ...    ...\n",
       "763  0.64  784.0  343.0  220.50  3.5   5  0.4   5  17.88  21.40\n",
       "764  0.62  808.5  367.5  220.50  3.5   2  0.4   5  16.54  16.88\n",
       "765  0.62  808.5  367.5  220.50  3.5   3  0.4   5  16.44  17.11\n",
       "766  0.62  808.5  367.5  220.50  3.5   4  0.4   5  16.48  16.61\n",
       "767  0.62  808.5  367.5  220.50  3.5   5  0.4   5  16.64  16.03\n",
       "\n",
       "[768 rows x 10 columns]"
      ]
     },
     "execution_count": 124,
     "metadata": {},
     "output_type": "execute_result"
    }
   ],
   "source": [
    "df2 = pd.read_excel(\"ENB2012_data.xlsx\")\n",
    "df2"
   ]
  },
  {
   "cell_type": "code",
   "execution_count": 119,
   "id": "d3ae22cf",
   "metadata": {},
   "outputs": [
    {
     "data": {
      "text/html": [
       "<div>\n",
       "<style scoped>\n",
       "    .dataframe tbody tr th:only-of-type {\n",
       "        vertical-align: middle;\n",
       "    }\n",
       "\n",
       "    .dataframe tbody tr th {\n",
       "        vertical-align: top;\n",
       "    }\n",
       "\n",
       "    .dataframe thead th {\n",
       "        text-align: right;\n",
       "    }\n",
       "</style>\n",
       "<table border=\"1\" class=\"dataframe\">\n",
       "  <thead>\n",
       "    <tr style=\"text-align: right;\">\n",
       "      <th></th>\n",
       "      <th>X1</th>\n",
       "      <th>X2</th>\n",
       "      <th>X3</th>\n",
       "      <th>X4</th>\n",
       "      <th>X5</th>\n",
       "      <th>X6</th>\n",
       "      <th>X7</th>\n",
       "      <th>X8</th>\n",
       "    </tr>\n",
       "  </thead>\n",
       "  <tbody>\n",
       "    <tr>\n",
       "      <th>0</th>\n",
       "      <td>0.98</td>\n",
       "      <td>514.5</td>\n",
       "      <td>294.0</td>\n",
       "      <td>110.25</td>\n",
       "      <td>7.0</td>\n",
       "      <td>2</td>\n",
       "      <td>0.0</td>\n",
       "      <td>0</td>\n",
       "    </tr>\n",
       "    <tr>\n",
       "      <th>1</th>\n",
       "      <td>0.98</td>\n",
       "      <td>514.5</td>\n",
       "      <td>294.0</td>\n",
       "      <td>110.25</td>\n",
       "      <td>7.0</td>\n",
       "      <td>3</td>\n",
       "      <td>0.0</td>\n",
       "      <td>0</td>\n",
       "    </tr>\n",
       "    <tr>\n",
       "      <th>2</th>\n",
       "      <td>0.98</td>\n",
       "      <td>514.5</td>\n",
       "      <td>294.0</td>\n",
       "      <td>110.25</td>\n",
       "      <td>7.0</td>\n",
       "      <td>4</td>\n",
       "      <td>0.0</td>\n",
       "      <td>0</td>\n",
       "    </tr>\n",
       "    <tr>\n",
       "      <th>3</th>\n",
       "      <td>0.98</td>\n",
       "      <td>514.5</td>\n",
       "      <td>294.0</td>\n",
       "      <td>110.25</td>\n",
       "      <td>7.0</td>\n",
       "      <td>5</td>\n",
       "      <td>0.0</td>\n",
       "      <td>0</td>\n",
       "    </tr>\n",
       "    <tr>\n",
       "      <th>4</th>\n",
       "      <td>0.90</td>\n",
       "      <td>563.5</td>\n",
       "      <td>318.5</td>\n",
       "      <td>122.50</td>\n",
       "      <td>7.0</td>\n",
       "      <td>2</td>\n",
       "      <td>0.0</td>\n",
       "      <td>0</td>\n",
       "    </tr>\n",
       "    <tr>\n",
       "      <th>...</th>\n",
       "      <td>...</td>\n",
       "      <td>...</td>\n",
       "      <td>...</td>\n",
       "      <td>...</td>\n",
       "      <td>...</td>\n",
       "      <td>...</td>\n",
       "      <td>...</td>\n",
       "      <td>...</td>\n",
       "    </tr>\n",
       "    <tr>\n",
       "      <th>763</th>\n",
       "      <td>0.64</td>\n",
       "      <td>784.0</td>\n",
       "      <td>343.0</td>\n",
       "      <td>220.50</td>\n",
       "      <td>3.5</td>\n",
       "      <td>5</td>\n",
       "      <td>0.4</td>\n",
       "      <td>5</td>\n",
       "    </tr>\n",
       "    <tr>\n",
       "      <th>764</th>\n",
       "      <td>0.62</td>\n",
       "      <td>808.5</td>\n",
       "      <td>367.5</td>\n",
       "      <td>220.50</td>\n",
       "      <td>3.5</td>\n",
       "      <td>2</td>\n",
       "      <td>0.4</td>\n",
       "      <td>5</td>\n",
       "    </tr>\n",
       "    <tr>\n",
       "      <th>765</th>\n",
       "      <td>0.62</td>\n",
       "      <td>808.5</td>\n",
       "      <td>367.5</td>\n",
       "      <td>220.50</td>\n",
       "      <td>3.5</td>\n",
       "      <td>3</td>\n",
       "      <td>0.4</td>\n",
       "      <td>5</td>\n",
       "    </tr>\n",
       "    <tr>\n",
       "      <th>766</th>\n",
       "      <td>0.62</td>\n",
       "      <td>808.5</td>\n",
       "      <td>367.5</td>\n",
       "      <td>220.50</td>\n",
       "      <td>3.5</td>\n",
       "      <td>4</td>\n",
       "      <td>0.4</td>\n",
       "      <td>5</td>\n",
       "    </tr>\n",
       "    <tr>\n",
       "      <th>767</th>\n",
       "      <td>0.62</td>\n",
       "      <td>808.5</td>\n",
       "      <td>367.5</td>\n",
       "      <td>220.50</td>\n",
       "      <td>3.5</td>\n",
       "      <td>5</td>\n",
       "      <td>0.4</td>\n",
       "      <td>5</td>\n",
       "    </tr>\n",
       "  </tbody>\n",
       "</table>\n",
       "<p>768 rows × 8 columns</p>\n",
       "</div>"
      ],
      "text/plain": [
       "       X1     X2     X3      X4   X5  X6   X7  X8\n",
       "0    0.98  514.5  294.0  110.25  7.0   2  0.0   0\n",
       "1    0.98  514.5  294.0  110.25  7.0   3  0.0   0\n",
       "2    0.98  514.5  294.0  110.25  7.0   4  0.0   0\n",
       "3    0.98  514.5  294.0  110.25  7.0   5  0.0   0\n",
       "4    0.90  563.5  318.5  122.50  7.0   2  0.0   0\n",
       "..    ...    ...    ...     ...  ...  ..  ...  ..\n",
       "763  0.64  784.0  343.0  220.50  3.5   5  0.4   5\n",
       "764  0.62  808.5  367.5  220.50  3.5   2  0.4   5\n",
       "765  0.62  808.5  367.5  220.50  3.5   3  0.4   5\n",
       "766  0.62  808.5  367.5  220.50  3.5   4  0.4   5\n",
       "767  0.62  808.5  367.5  220.50  3.5   5  0.4   5\n",
       "\n",
       "[768 rows x 8 columns]"
      ]
     },
     "execution_count": 119,
     "metadata": {},
     "output_type": "execute_result"
    }
   ],
   "source": [
    "x = df2.iloc[: , :-2]\n",
    "x"
   ]
  },
  {
   "cell_type": "code",
   "execution_count": 134,
   "id": "04d48319",
   "metadata": {},
   "outputs": [
    {
     "data": {
      "text/plain": [
       "0      15.55\n",
       "1      15.55\n",
       "2      15.55\n",
       "3      15.55\n",
       "4      20.84\n",
       "       ...  \n",
       "763    17.88\n",
       "764    16.54\n",
       "765    16.44\n",
       "766    16.48\n",
       "767    16.64\n",
       "Name: Y1, Length: 768, dtype: float64"
      ]
     },
     "execution_count": 134,
     "metadata": {},
     "output_type": "execute_result"
    }
   ],
   "source": [
    "temp = df2.T\n",
    "y_heat = temp.iloc[-2]\n",
    "y_heat"
   ]
  },
  {
   "cell_type": "code",
   "execution_count": 135,
   "id": "2bc5ec5d",
   "metadata": {},
   "outputs": [
    {
     "data": {
      "text/plain": [
       "0      21.33\n",
       "1      21.33\n",
       "2      21.33\n",
       "3      21.33\n",
       "4      28.28\n",
       "       ...  \n",
       "763    21.40\n",
       "764    16.88\n",
       "765    17.11\n",
       "766    16.61\n",
       "767    16.03\n",
       "Name: Y2, Length: 768, dtype: float64"
      ]
     },
     "execution_count": 135,
     "metadata": {},
     "output_type": "execute_result"
    }
   ],
   "source": [
    "y_cool = temp.iloc[-1]\n",
    "y_cool"
   ]
  },
  {
   "cell_type": "code",
   "execution_count": 136,
   "id": "b13f5ad6",
   "metadata": {},
   "outputs": [],
   "source": [
    "x_heat_train, x_heat_test, y_heat_train, y_heat_test = train_test_split(x, y_heat, test_size = 0.2)\n",
    "x_cool_train, x_cool_test, y_cool_train, y_cool_test = train_test_split(x, y_cool, test_size = 0.2)"
   ]
  },
  {
   "cell_type": "code",
   "execution_count": 207,
   "id": "4f75d242",
   "metadata": {},
   "outputs": [
    {
     "data": {
      "image/png": "[encoded data removed]",
      "text/plain": [
       "<Figure size 432x288 with 1 Axes>"
      ]
     },
     "metadata": {
      "needs_background": "light"
     },
     "output_type": "display_data"
    },
    {
     "data": {
      "image/png": "[encoded data removed]",
      "text/plain": [
       "<Figure size 432x288 with 1 Axes>"
      ]
     },
     "metadata": {
      "needs_background": "light"
     },
     "output_type": "display_data"
    }
   ],
   "source": [
    "plt.figure()\n",
    "ax = plt.axes()\n",
    "ax.set_xlabel('Relative Compactness')\n",
    "ax.set_ylabel('Heating Load')\n",
    "ax.scatter(x['X1'],y_heat)\n",
    "plt.show()\n",
    "\n",
    "plt.figure()\n",
    "ax = plt.axes()\n",
    "ax.set_xlabel('Relative Compactness')\n",
    "ax.set_ylabel('Cooling Load')\n",
    "ax.scatter(x['X1'],y_cool)\n",
    "plt.show()"
   ]
  },
  {
   "cell_type": "code",
   "execution_count": 208,
   "id": "c65b7ba2",
   "metadata": {},
   "outputs": [
    {
     "data": {
      "image/png": "[encoded data removed]",
      "text/plain": [
       "<Figure size 432x288 with 1 Axes>"
      ]
     },
     "metadata": {
      "needs_background": "light"
     },
     "output_type": "display_data"
    },
    {
     "data": {
      "image/png": "[encoded data removed]",
      "text/plain": [
       "<Figure size 432x288 with 1 Axes>"
      ]
     },
     "metadata": {
      "needs_background": "light"
     },
     "output_type": "display_data"
    }
   ],
   "source": [
    "plt.figure()\n",
    "ax = plt.axes()\n",
    "ax.set_xlabel('Surface Area')\n",
    "ax.set_ylabel('Heating Load')\n",
    "ax.scatter(x['X2'],y_heat)\n",
    "plt.show()\n",
    "\n",
    "plt.figure()\n",
    "ax = plt.axes()\n",
    "ax.set_xlabel('Surface Area')\n",
    "ax.set_ylabel('Cooling Load')\n",
    "ax.scatter(x['X2'],y_cool)\n",
    "plt.show()"
   ]
  },
  {
   "cell_type": "code",
   "execution_count": 209,
   "id": "549a2dcc",
   "metadata": {},
   "outputs": [
    {
     "data": {
      "image/png": "[encoded data removed]",
      "text/plain": [
       "<Figure size 432x288 with 1 Axes>"
      ]
     },
     "metadata": {
      "needs_background": "light"
     },
     "output_type": "display_data"
    },
    {
     "data": {
      "image/png": "[encoded data removed]",
      "text/plain": [
       "<Figure size 432x288 with 1 Axes>"
      ]
     },
     "metadata": {
      "needs_background": "light"
     },
     "output_type": "display_data"
    }
   ],
   "source": [
    "plt.figure()\n",
    "ax = plt.axes()\n",
    "ax.set_xlabel('Wall Area')\n",
    "ax.set_ylabel('Heating Load')\n",
    "ax.scatter(x['X3'],y_heat)\n",
    "plt.show()\n",
    "\n",
    "plt.figure()\n",
    "ax = plt.axes()\n",
    "ax.set_xlabel('Wall Area')\n",
    "ax.set_ylabel('Cooling Load')\n",
    "ax.scatter(x['X3'],y_cool)\n",
    "plt.show()"
   ]
  },
  {
   "cell_type": "code",
   "execution_count": 210,
   "id": "35e5a2ba",
   "metadata": {},
   "outputs": [
    {
     "data": {
      "image/png": "[encoded data removed]",
      "text/plain": [
       "<Figure size 432x288 with 1 Axes>"
      ]
     },
     "metadata": {
      "needs_background": "light"
     },
     "output_type": "display_data"
    },
    {
     "data": {
      "image/png": "[encoded data removed]",
      "text/plain": [
       "<Figure size 432x288 with 1 Axes>"
      ]
     },
     "metadata": {
      "needs_background": "light"
     },
     "output_type": "display_data"
    }
   ],
   "source": [
    "plt.figure()\n",
    "ax = plt.axes()\n",
    "ax.set_xlabel('Roof Area')\n",
    "ax.set_ylabel('Heating Load')\n",
    "ax.scatter(x['X4'],y_heat)\n",
    "plt.show()\n",
    "\n",
    "plt.figure()\n",
    "ax = plt.axes()\n",
    "ax.set_xlabel('Roof Area')\n",
    "ax.set_ylabel('Cooling Load')\n",
    "ax.scatter(x['X4'],y_cool)\n",
    "plt.show()\n"
   ]
  },
  {
   "cell_type": "code",
   "execution_count": 211,
   "id": "3852565d",
   "metadata": {},
   "outputs": [
    {
     "data": {
      "image/png": "[encoded data removed]",
      "text/plain": [
       "<Figure size 432x288 with 1 Axes>"
      ]
     },
     "metadata": {
      "needs_background": "light"
     },
     "output_type": "display_data"
    },
    {
     "data": {
      "image/png": "[encoded data removed]",
      "text/plain": [
       "<Figure size 432x288 with 1 Axes>"
      ]
     },
     "metadata": {
      "needs_background": "light"
     },
     "output_type": "display_data"
    }
   ],
   "source": [
    "plt.figure()\n",
    "ax = plt.axes()\n",
    "ax.set_xlabel('Overall Height')\n",
    "ax.set_ylabel('Heating Load')\n",
    "ax.scatter(x['X5'],y_heat)\n",
    "plt.show()\n",
    "\n",
    "plt.figure()\n",
    "ax = plt.axes()\n",
    "ax.set_xlabel('Overall Height')\n",
    "ax.set_ylabel('Cooling Load')\n",
    "ax.scatter(x['X5'],y_cool)\n",
    "plt.show()"
   ]
  },
  {
   "cell_type": "code",
   "execution_count": 212,
   "id": "936b66c4",
   "metadata": {},
   "outputs": [
    {
     "data": {
      "image/png": "[encoded data removed]",
      "text/plain": [
       "<Figure size 432x288 with 1 Axes>"
      ]
     },
     "metadata": {
      "needs_background": "light"
     },
     "output_type": "display_data"
    },
    {
     "data": {
      "image/png": "[encoded data removed]",
      "text/plain": [
       "<Figure size 432x288 with 1 Axes>"
      ]
     },
     "metadata": {
      "needs_background": "light"
     },
     "output_type": "display_data"
    }
   ],
   "source": [
    "plt.figure()\n",
    "ax = plt.axes()\n",
    "ax.set_xlabel('Orientation')\n",
    "ax.set_ylabel('Heating Load')\n",
    "ax.scatter(x['X6'],y_heat)\n",
    "plt.show()\n",
    "\n",
    "plt.figure()\n",
    "ax = plt.axes()\n",
    "ax.set_xlabel('Orientation')\n",
    "ax.set_ylabel('Cooling Load')\n",
    "ax.scatter(x['X6'],y_cool)\n",
    "plt.show()\n"
   ]
  },
  {
   "cell_type": "code",
   "execution_count": 213,
   "id": "b27831fa",
   "metadata": {},
   "outputs": [
    {
     "data": {
      "image/png": "[encoded data removed]",
      "text/plain": [
       "<Figure size 432x288 with 1 Axes>"
      ]
     },
     "metadata": {
      "needs_background": "light"
     },
     "output_type": "display_data"
    },
    {
     "data": {
      "image/png": "[encoded data removed]",
      "text/plain": [
       "<Figure size 432x288 with 1 Axes>"
      ]
     },
     "metadata": {
      "needs_background": "light"
     },
     "output_type": "display_data"
    }
   ],
   "source": [
    "plt.figure()\n",
    "ax = plt.axes()\n",
    "ax.set_xlabel('Glazing Area')\n",
    "ax.set_ylabel('Heating Load')\n",
    "ax.scatter(x['X7'],y_heat)\n",
    "plt.show()\n",
    "\n",
    "plt.figure()\n",
    "ax = plt.axes()\n",
    "ax.set_xlabel('Glazing Area')\n",
    "ax.set_ylabel('Cooling Load')\n",
    "ax.scatter(x['X7'],y_cool)\n",
    "plt.show()"
   ]
  },
  {
   "cell_type": "code",
   "execution_count": 214,
   "id": "db41b45b",
   "metadata": {},
   "outputs": [
    {
     "data": {
      "image/png": "[encoded data removed]",
      "text/plain": [
       "<Figure size 432x288 with 1 Axes>"
      ]
     },
     "metadata": {
      "needs_background": "light"
     },
     "output_type": "display_data"
    },
    {
     "data": {
      "image/png": "[encoded data removed]",
      "text/plain": [
       "<Figure size 432x288 with 1 Axes>"
      ]
     },
     "metadata": {
      "needs_background": "light"
     },
     "output_type": "display_data"
    }
   ],
   "source": [
    "\n",
    "plt.figure()\n",
    "ax = plt.axes()\n",
    "ax.set_xlabel('Glazing Area Distribution')\n",
    "ax.set_ylabel('Heating Load')\n",
    "ax.scatter(x['X8'],y_heat)\n",
    "plt.show()\n",
    "\n",
    "plt.figure()\n",
    "ax = plt.axes()\n",
    "ax.set_xlabel('Glazing Area Distribution')\n",
    "ax.set_ylabel('Cooling Load')\n",
    "ax.scatter(x['X8'],y_cool)\n",
    "plt.show()"
   ]
  },
  {
   "cell_type": "markdown",
   "id": "2f9e72e2",
   "metadata": {},
   "source": [
    "# Lasso"
   ]
  },
  {
   "cell_type": "code",
   "execution_count": 252,
   "id": "b112643c",
   "metadata": {},
   "outputs": [],
   "source": [
    "# experimenting between 0.1 and 0.9 led 0.2 to be the best performing model\n",
    "model_EE_lasso = Lasso(alpha = 0.2)"
   ]
  },
  {
   "cell_type": "code",
   "execution_count": 245,
   "id": "b17f2af8",
   "metadata": {},
   "outputs": [],
   "source": [
    "model_EE_lasso.fit(x_heat_train, y_heat_train)\n",
    "y_heat_lasso_pred = model_EE_lasso.predict(x_heat_test)"
   ]
  },
  {
   "cell_type": "code",
   "execution_count": 246,
   "id": "45e6e87a",
   "metadata": {},
   "outputs": [
    {
     "name": "stdout",
     "output_type": "stream",
     "text": [
      "Heating R2:  0.8826122979721926\n",
      "Heating Explained Variance: 0.8827748562333637\n",
      "Heating MSE: 12.152982915562488\n"
     ]
    }
   ],
   "source": [
    "print(\"Heating R2: \", r2_score(y_heat_test, y_heat_lasso_pred))\n",
    "print(\"Heating Explained Variance:\", explained_variance_score(y_heat_test, y_heat_lasso_pred))\n",
    "print(\"Heating MSE:\", mean_squared_error(y_heat_test,  y_heat_lasso_pred))"
   ]
  },
  {
   "cell_type": "code",
   "execution_count": 247,
   "id": "0ac41bdd",
   "metadata": {},
   "outputs": [
    {
     "data": {
      "image/png": "[encoded data removed]",
      "text/plain": [
       "<Figure size 432x288 with 1 Axes>"
      ]
     },
     "metadata": {
      "needs_background": "light"
     },
     "output_type": "display_data"
    }
   ],
   "source": [
    "plt.figure()\n",
    "ax = plt.axes()\n",
    "ax.set_xlabel('True Heating')\n",
    "ax.set_ylabel('Predicted Heating')\n",
    "ax.scatter(y_heat_lasso_pred, y_heat_test)\n",
    "plt.show()\n"
   ]
  },
  {
   "cell_type": "code",
   "execution_count": 248,
   "id": "fae2021c",
   "metadata": {},
   "outputs": [],
   "source": [
    "model_EE_lasso.fit(x_cool_train, y_cool_train)\n",
    "y_cool_lasso_pred = model_EE_lasso.predict(x_cool_test)"
   ]
  },
  {
   "cell_type": "code",
   "execution_count": 251,
   "id": "b81ed9d1",
   "metadata": {},
   "outputs": [
    {
     "name": "stdout",
     "output_type": "stream",
     "text": [
      "Cooling R2:  0.8647073274840782\n",
      "Cooling Variance: 0.8649727891104108\n",
      "Cooling MSE: 12.239661787675512\n"
     ]
    }
   ],
   "source": [
    "print(\"Cooling R2: \", r2_score(y_cool_test, y_cool_lasso_pred))\n",
    "print(\"Cooling Variance:\", explained_variance_score(y_cool_test, y_cool_lasso_pred))\n",
    "print(\"Cooling MSE:\", mean_squared_error(y_cool_test,  y_cool_lasso_pred))"
   ]
  },
  {
   "cell_type": "code",
   "execution_count": 250,
   "id": "9062a8a0",
   "metadata": {},
   "outputs": [
    {
     "data": {
      "image/png": "[encoded data removed]",
      "text/plain": [
       "<Figure size 432x288 with 1 Axes>"
      ]
     },
     "metadata": {
      "needs_background": "light"
     },
     "output_type": "display_data"
    }
   ],
   "source": [
    "plt.figure()\n",
    "ax = plt.axes()\n",
    "ax.set_xlabel('True Cooling')\n",
    "ax.set_ylabel('Predicted Cooling')\n",
    "ax.scatter(y_cool_lasso_pred, y_cool_test)\n",
    "plt.show()"
   ]
  },
  {
   "cell_type": "markdown",
   "id": "ae17031d",
   "metadata": {},
   "source": [
    "## Linear Regression"
   ]
  },
  {
   "cell_type": "code",
   "execution_count": 173,
   "id": "4c450b60",
   "metadata": {},
   "outputs": [
    {
     "name": "stdout",
     "output_type": "stream",
     "text": [
      "Heating R2:  0.9174778678381815\n",
      "Heating Explained Variance: 0.9176124147791151\n",
      "Heating MSE: 8.543399734333338\n"
     ]
    }
   ],
   "source": [
    "model_EE_linreg = LinearRegression()\n",
    "model_EE_linreg.fit(x_heat_train, y_heat_train)\n",
    "y_heat_linreg_pred = model_EE_linreg.predict(x_heat_test)\n",
    "\n",
    "print(\"Heating R2: \", r2_score(y_heat_test, y_heat_linreg_pred))\n",
    "print(\"Heating Explained Variance:\", explained_variance_score(y_heat_test, y_heat_linreg_pred))\n",
    "print(\"Heating MSE:\",mean_squared_error(y_heat_test,  y_heat_linreg_pred))"
   ]
  },
  {
   "cell_type": "code",
   "execution_count": 174,
   "id": "7a2e3025",
   "metadata": {},
   "outputs": [
    {
     "name": "stdout",
     "output_type": "stream",
     "text": [
      "Cooling R2:  0.9045065924358381\n",
      "Cooling Explained Variance: 0.9050298769028695\n",
      "Cooling MSE: 8.63910062387486\n"
     ]
    }
   ],
   "source": [
    "model_EE_linreg.fit(x_cool_train, y_cool_train)\n",
    "y_cool_linreg_pred = model_EE_linreg.predict(x_cool_test)\n",
    "print(\"Cooling R2: \", r2_score(y_cool_test, y_cool_linreg_pred))\n",
    "print(\"Cooling Explained Variance:\", explained_variance_score(y_cool_test, y_cool_linreg_pred))\n",
    "print(\"Cooling MSE:\", mean_squared_error(y_cool_test,  y_cool_linreg_pred))"
   ]
  },
  {
   "cell_type": "markdown",
   "id": "8389914f",
   "metadata": {},
   "source": [
    "# SGD"
   ]
  },
  {
   "cell_type": "code",
   "execution_count": 195,
   "id": "425582d4",
   "metadata": {},
   "outputs": [
    {
     "data": {
      "text/plain": [
       "Pipeline(steps=[('standardscaler', StandardScaler()),\n",
       "                ('sgdregressor', SGDRegressor(max_iter=1200, tol=0.003))])"
      ]
     },
     "execution_count": 195,
     "metadata": {},
     "output_type": "execute_result"
    }
   ],
   "source": [
    "model_EE_SGD = make_pipeline(StandardScaler(), SGDRegressor(shuffle = True, max_iter = 1200, tol=0.003))\n",
    "model_EE_SGD.fit(x_heat_train, np.ravel(y_heat_train))"
   ]
  },
  {
   "cell_type": "code",
   "execution_count": 199,
   "id": "dc4e41a1",
   "metadata": {},
   "outputs": [
    {
     "name": "stdout",
     "output_type": "stream",
     "text": [
      "Heating R2:  0.8616283092768405\n",
      "Heating Explained Variance: 0.9074610221950669\n",
      "Heating MSE: 14.325425613644791\n"
     ]
    }
   ],
   "source": [
    "y_heat_SGD_pred = model_EE_SGD.predict(x_heat_test)\n",
    "print(\"Heating R2: \", r2_score(y_heat_test, y_heat_SGD_pred))\n",
    "print(\"Heating Explained Variance:\", explained_variance_score(y_heat_test, y_heat_SGD_pred))\n",
    "print(\"Heating MSE:\",mean_squared_error(y_heat_test,  y_heat_SGD_pred))"
   ]
  },
  {
   "cell_type": "code",
   "execution_count": 197,
   "id": "e23dea74",
   "metadata": {},
   "outputs": [
    {
     "data": {
      "text/plain": [
       "Pipeline(steps=[('standardscaler', StandardScaler()),\n",
       "                ('sgdregressor', SGDRegressor(max_iter=1200, tol=0.003))])"
      ]
     },
     "execution_count": 197,
     "metadata": {},
     "output_type": "execute_result"
    }
   ],
   "source": [
    "model_EE_SGD.fit(x_cool_train, np.ravel(y_cool_train))"
   ]
  },
  {
   "cell_type": "code",
   "execution_count": 200,
   "id": "14f7f0a4",
   "metadata": {},
   "outputs": [
    {
     "name": "stdout",
     "output_type": "stream",
     "text": [
      "Cooling R2:  0.9023189497509675\n",
      "Cooling Explained Variance: 0.902711398494542\n",
      "Cooling MSE: 8.837012351665937\n"
     ]
    }
   ],
   "source": [
    "y_cool_SGD_pred = model_EE_SGD.predict(x_cool_test)\n",
    "print(\"Cooling R2: \", r2_score(y_cool_test, y_cool_SGD_pred))\n",
    "print(\"Cooling Explained Variance:\", explained_variance_score(y_cool_test, y_cool_SGD_pred))\n",
    "print(\"Cooling MSE:\",mean_squared_error(y_cool_test,  y_cool_SGD_pred))"
   ]
  },
  {
   "cell_type": "code",
   "execution_count": null,
   "id": "10a7a703",
   "metadata": {},
   "outputs": [],
   "source": []
  }
 ],
 "metadata": {
  "kernelspec": {
   "display_name": "Python 3 (ipykernel)",
   "language": "python",
   "name": "python3"
  },
  "language_info": {
   "codemirror_mode": {
    "name": "ipython",
    "version": 3
   },
   "file_extension": ".py",
   "mimetype": "text/x-python",
   "name": "python",
   "nbconvert_exporter": "python",
   "pygments_lexer": "ipython3",
   "version": "3.9.7"
  }
 },
 "nbformat": 4,
 "nbformat_minor": 5
}
