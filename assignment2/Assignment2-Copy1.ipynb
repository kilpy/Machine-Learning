{
 "cells": [
  {
   "cell_type": "markdown",
   "metadata": {
    "id": "xolLBPJ6b127"
   },
   "source": [
    "Complete each problem below and print to pdf. Submit the pdf.\n",
    "\n",
    "You will need to work with the three datasets attached to this assignment:\n",
    "\n",
    "*   poverty.csv\n",
    "*   poverty_2.csv\n",
    "*   real_estate.csv"
   ]
  },
  {
   "cell_type": "markdown",
   "metadata": {
    "id": "fajTj7WydVkh"
   },
   "source": [
    "# Problem 1: Univariate Linear Regression"
   ]
  },
  {
   "cell_type": "markdown",
   "metadata": {
    "id": "qY3WWLxLduC_"
   },
   "source": [
    "## 1) import the libraries you will need:\n",
    "numpy \n",
    "pandas\n",
    "matplotlab.pyplot\n",
    "statsmodels.api"
   ]
  },
  {
   "cell_type": "code",
   "execution_count": 1,
   "metadata": {},
   "outputs": [],
   "source": [
    "import numpy as np\n",
    "import pandas as pd\n",
    "import matplotlib.pyplot as plt\n",
    "import statsmodels.api as sm"
   ]
  },
  {
   "cell_type": "markdown",
   "metadata": {
    "id": "GES3Diiod-VB"
   },
   "source": [
    "## 2) Import the date poverty.csv dataset "
   ]
  },
  {
   "cell_type": "code",
   "execution_count": 2,
   "metadata": {},
   "outputs": [
    {
     "name": "stdout",
     "output_type": "stream",
     "text": [
      "                Location  PovPct  Brth15to17  Brth18to19  ViolCrime  TeenBrth\n",
      "0                Alabama    20.1        31.5        88.7       11.2      54.5\n",
      "1                 Alaska     7.1        18.9        73.7        9.1      39.5\n",
      "2                Arizona    16.1        35.0       102.5       10.4      61.2\n",
      "3               Arkansas    14.9        31.6       101.7       10.4      59.9\n",
      "4             California    16.7        22.6        69.1       11.2      41.1\n",
      "5               Colorado     8.8        26.2        79.1        5.8      47.0\n",
      "6            Connecticut     9.7        14.1        45.1        4.6      25.8\n",
      "7               Delaware    10.3        24.7        77.8        3.5      46.3\n",
      "8   District_of_Columbia    22.0        44.8       101.5       65.0      69.1\n",
      "9                Florida    16.2        23.2        78.4        7.3      44.5\n",
      "10               Georgia    12.1        31.4        92.8        9.5      55.7\n",
      "11                Hawaii    10.3        17.7        66.4        4.7      38.2\n",
      "12                 Idaho    14.5        18.4        69.1        4.1      39.1\n",
      "13              Illinois    12.4        23.4        70.5       10.3      42.2\n",
      "14               Indiana     9.6        22.6        78.5        8.0      44.6\n",
      "15                  Iowa    12.2        16.4        55.4        1.8      32.5\n",
      "16                Kansas    10.8        21.4        74.2        6.2      43.0\n",
      "17              Kentucky    14.7        26.5        84.8        7.2      51.0\n",
      "18             Louisiana    19.7        31.7        96.1       17.0      58.1\n",
      "19                 Maine    11.2        11.9        45.2        2.0      25.4\n",
      "20              Maryland    10.1        20.0        59.6       11.8      35.4\n",
      "21         Massachusetts    11.0        12.5        39.6        3.6      23.3\n",
      "22              Michigan    12.2        18.0        60.8        8.5      34.8\n",
      "23             Minnesota     9.2        14.2        47.3        3.9      27.5\n",
      "24           Mississippi    23.5        37.6       103.3       12.9      64.7\n",
      "25              Missouri     9.4        22.2        76.6        8.8      44.1\n",
      "26               Montana    15.3        17.8        63.3        3.0      36.4\n",
      "27              Nebraska     9.6        18.3        64.2        2.9      37.0\n",
      "28                Nevada    11.1        28.0        96.7       10.7      53.9\n",
      "29         New_Hampshire     5.3         8.1        39.0        1.8      20.0\n",
      "30            New_Jersey     7.8        14.7        46.1        5.1      26.8\n",
      "31            New_Mexico    25.3        37.8        99.5        8.8      62.4\n",
      "32              New_York    16.5        15.7        50.1        8.5      29.5\n",
      "33        North_Carolina    12.6        28.6        89.3        9.4      52.2\n",
      "34          North_Dakota    12.0        11.7        48.7        0.9      27.2\n",
      "35                  Ohio    11.5        20.1        69.4        5.4      39.5\n",
      "36              Oklahoma    17.1        30.1        97.6       12.2      58.0\n",
      "37                Oregon    11.2        18.2        64.8        4.1      36.8\n",
      "38          Pennsylvania    12.2        17.2        53.7        6.3      31.6\n",
      "39          Rhode_Island    10.6        19.6        59.0        3.3      35.6\n",
      "40        South_Carolina    19.9        29.2        87.2        7.9      53.0\n",
      "41          South_Dakota    14.5        17.3        67.8        1.8      38.0\n",
      "42             Tennessee    15.5        28.2        94.2       10.6      54.3\n",
      "43                 Texas    17.4        38.2       104.3        9.0      64.4\n",
      "44                  Utah     8.4        17.8        62.4        3.9      36.8\n",
      "45               Vermont    10.3        10.4        44.4        2.2      24.2\n",
      "46              Virginia    10.2        19.0        66.0        7.6      37.6\n",
      "47            Washington    12.5        16.8        57.6        5.1      33.0\n",
      "48         West_Virginia    16.7        21.5        80.7        4.9      45.5\n",
      "49             Wisconsin     8.5        15.9        57.1        4.3      32.3\n",
      "50               Wyoming    12.2        17.7        72.1        2.1      39.9\n"
     ]
    }
   ],
   "source": [
    "povy = pd.read_csv('poverty.csv')\n",
    "\n",
    "print(povy)"
   ]
  },
  {
   "cell_type": "markdown",
   "metadata": {
    "id": "Iil6FA2Fd_60"
   },
   "source": [
    "## 3) Print the dataset indexed upon the location column."
   ]
  },
  {
   "cell_type": "code",
   "execution_count": 3,
   "metadata": {},
   "outputs": [
    {
     "name": "stdout",
     "output_type": "stream",
     "text": [
      "0                  Alabama\n",
      "1                   Alaska\n",
      "2                  Arizona\n",
      "3                 Arkansas\n",
      "4               California\n",
      "5                 Colorado\n",
      "6              Connecticut\n",
      "7                 Delaware\n",
      "8     District_of_Columbia\n",
      "9                  Florida\n",
      "10                 Georgia\n",
      "11                  Hawaii\n",
      "12                   Idaho\n",
      "13                Illinois\n",
      "14                 Indiana\n",
      "15                    Iowa\n",
      "16                  Kansas\n",
      "17                Kentucky\n",
      "18               Louisiana\n",
      "19                   Maine\n",
      "20                Maryland\n",
      "21           Massachusetts\n",
      "22                Michigan\n",
      "23               Minnesota\n",
      "24             Mississippi\n",
      "25                Missouri\n",
      "26                 Montana\n",
      "27                Nebraska\n",
      "28                  Nevada\n",
      "29           New_Hampshire\n",
      "30              New_Jersey\n",
      "31              New_Mexico\n",
      "32                New_York\n",
      "33          North_Carolina\n",
      "34            North_Dakota\n",
      "35                    Ohio\n",
      "36                Oklahoma\n",
      "37                  Oregon\n",
      "38            Pennsylvania\n",
      "39            Rhode_Island\n",
      "40          South_Carolina\n",
      "41            South_Dakota\n",
      "42               Tennessee\n",
      "43                   Texas\n",
      "44                    Utah\n",
      "45                 Vermont\n",
      "46                Virginia\n",
      "47              Washington\n",
      "48           West_Virginia\n",
      "49               Wisconsin\n",
      "50                 Wyoming\n",
      "Name: Location, dtype: object\n"
     ]
    }
   ],
   "source": [
    "print(povy['Location'])"
   ]
  },
  {
   "cell_type": "markdown",
   "metadata": {
    "id": "LbI0lor1eCey"
   },
   "source": [
    "## 4) Get useful descriptive statistial data on the dataset.\n",
    "Hint: this is a single line, data._____ "
   ]
  },
  {
   "cell_type": "code",
   "execution_count": 4,
   "metadata": {},
   "outputs": [
    {
     "data": {
      "text/html": [
       "<div>\n",
       "<style scoped>\n",
       "    .dataframe tbody tr th:only-of-type {\n",
       "        vertical-align: middle;\n",
       "    }\n",
       "\n",
       "    .dataframe tbody tr th {\n",
       "        vertical-align: top;\n",
       "    }\n",
       "\n",
       "    .dataframe thead th {\n",
       "        text-align: right;\n",
       "    }\n",
       "</style>\n",
       "<table border=\"1\" class=\"dataframe\">\n",
       "  <thead>\n",
       "    <tr style=\"text-align: right;\">\n",
       "      <th></th>\n",
       "      <th>PovPct</th>\n",
       "      <th>Brth15to17</th>\n",
       "      <th>Brth18to19</th>\n",
       "      <th>ViolCrime</th>\n",
       "      <th>TeenBrth</th>\n",
       "    </tr>\n",
       "  </thead>\n",
       "  <tbody>\n",
       "    <tr>\n",
       "      <th>count</th>\n",
       "      <td>51.000000</td>\n",
       "      <td>51.000000</td>\n",
       "      <td>51.000000</td>\n",
       "      <td>51.000000</td>\n",
       "      <td>51.000000</td>\n",
       "    </tr>\n",
       "    <tr>\n",
       "      <th>mean</th>\n",
       "      <td>13.117647</td>\n",
       "      <td>22.282353</td>\n",
       "      <td>72.019608</td>\n",
       "      <td>7.854902</td>\n",
       "      <td>42.243137</td>\n",
       "    </tr>\n",
       "    <tr>\n",
       "      <th>std</th>\n",
       "      <td>4.277228</td>\n",
       "      <td>8.043499</td>\n",
       "      <td>18.975563</td>\n",
       "      <td>8.914131</td>\n",
       "      <td>12.318511</td>\n",
       "    </tr>\n",
       "    <tr>\n",
       "      <th>min</th>\n",
       "      <td>5.300000</td>\n",
       "      <td>8.100000</td>\n",
       "      <td>39.000000</td>\n",
       "      <td>0.900000</td>\n",
       "      <td>20.000000</td>\n",
       "    </tr>\n",
       "    <tr>\n",
       "      <th>25%</th>\n",
       "      <td>10.250000</td>\n",
       "      <td>17.250000</td>\n",
       "      <td>58.300000</td>\n",
       "      <td>3.900000</td>\n",
       "      <td>33.900000</td>\n",
       "    </tr>\n",
       "    <tr>\n",
       "      <th>50%</th>\n",
       "      <td>12.200000</td>\n",
       "      <td>20.000000</td>\n",
       "      <td>69.400000</td>\n",
       "      <td>6.300000</td>\n",
       "      <td>39.500000</td>\n",
       "    </tr>\n",
       "    <tr>\n",
       "      <th>75%</th>\n",
       "      <td>15.800000</td>\n",
       "      <td>28.100000</td>\n",
       "      <td>87.950000</td>\n",
       "      <td>9.450000</td>\n",
       "      <td>52.600000</td>\n",
       "    </tr>\n",
       "    <tr>\n",
       "      <th>max</th>\n",
       "      <td>25.300000</td>\n",
       "      <td>44.800000</td>\n",
       "      <td>104.300000</td>\n",
       "      <td>65.000000</td>\n",
       "      <td>69.100000</td>\n",
       "    </tr>\n",
       "  </tbody>\n",
       "</table>\n",
       "</div>"
      ],
      "text/plain": [
       "          PovPct  Brth15to17  Brth18to19  ViolCrime   TeenBrth\n",
       "count  51.000000   51.000000   51.000000  51.000000  51.000000\n",
       "mean   13.117647   22.282353   72.019608   7.854902  42.243137\n",
       "std     4.277228    8.043499   18.975563   8.914131  12.318511\n",
       "min     5.300000    8.100000   39.000000   0.900000  20.000000\n",
       "25%    10.250000   17.250000   58.300000   3.900000  33.900000\n",
       "50%    12.200000   20.000000   69.400000   6.300000  39.500000\n",
       "75%    15.800000   28.100000   87.950000   9.450000  52.600000\n",
       "max    25.300000   44.800000  104.300000  65.000000  69.100000"
      ]
     },
     "execution_count": 4,
     "metadata": {},
     "output_type": "execute_result"
    }
   ],
   "source": [
    "povy.describe()"
   ]
  },
  {
   "cell_type": "markdown",
   "metadata": {
    "id": "WIwY_FKS0MQZ"
   },
   "source": [
    "##5) Print the columns"
   ]
  },
  {
   "cell_type": "code",
   "execution_count": 5,
   "metadata": {},
   "outputs": [
    {
     "name": "stdout",
     "output_type": "stream",
     "text": [
      "['Location', 'PovPct', 'Brth15to17', 'Brth18to19', 'ViolCrime', 'TeenBrth']\n"
     ]
    }
   ],
   "source": [
    "all_columns = list(povy.columns)\n",
    "print(all_columns)"
   ]
  },
  {
   "cell_type": "markdown",
   "metadata": {
    "id": "mh1LJDq4eD-0"
   },
   "source": [
    "## 6) Create a regression line based upon the dependent and independent variables:\n",
    "PovPct \n",
    "Brth18to19\n",
    "\n",
    "In this step only create a scatterplot of the two variables, simply plotting the data.\n",
    "\n",
    "Note: The variable PovPct is the percent of a state’s population in 2000 living in households with incomes below the federally defined poverty level. "
   ]
  },
  {
   "cell_type": "code",
   "execution_count": 6,
   "metadata": {},
   "outputs": [
    {
     "data": {
      "text/plain": [
       "<matplotlib.collections.PathCollection at 0x2478a4ebc88>"
      ]
     },
     "execution_count": 6,
     "metadata": {},
     "output_type": "execute_result"
    },
    {
     "data": {
      "image/png": "[encoded data removed]",
      "text/plain": [
       "<Figure size 432x288 with 1 Axes>"
      ]
     },
     "metadata": {},
     "output_type": "display_data"
    }
   ],
   "source": [
    "y = povy['PovPct']\n",
    "x = povy['Brth18to19']\n",
    "plt.scatter(y,x)"
   ]
  },
  {
   "cell_type": "markdown",
   "metadata": {
    "id": "ToC_9hnc3mkd"
   },
   "source": [
    "## 7) Lets create a new variable, x1, as well as the results variable:\n",
    "Example would be\n",
    "1.   x1 = sm.add_constant(x)\n",
    "2.   results = sm.OLS(y, x1).fit()\n",
    "3.   results.summary()\n",
    "\n",
    "This gives you the OLS Regression results, the coefficients table, and some additional tests. The data that you are interested in is the coefficient values. This is the value for the constant you created is b0, and birth19to19 is b1 in the regression equation.\n"
   ]
  },
  {
   "cell_type": "code",
   "execution_count": 7,
   "metadata": {},
   "outputs": [
    {
     "data": {
      "text/html": [
       "<table class=\"simpletable\">\n",
       "<caption>OLS Regression Results</caption>\n",
       "<tr>\n",
       "  <th>Dep. Variable:</th>         <td>PovPct</td>      <th>  R-squared:         </th> <td>   0.422</td>\n",
       "</tr>\n",
       "<tr>\n",
       "  <th>Model:</th>                   <td>OLS</td>       <th>  Adj. R-squared:    </th> <td>   0.410</td>\n",
       "</tr>\n",
       "<tr>\n",
       "  <th>Method:</th>             <td>Least Squares</td>  <th>  F-statistic:       </th> <td>   35.78</td>\n",
       "</tr>\n",
       "<tr>\n",
       "  <th>Date:</th>             <td>Fri, 18 Feb 2022</td> <th>  Prob (F-statistic):</th> <td>2.50e-07</td>\n",
       "</tr>\n",
       "<tr>\n",
       "  <th>Time:</th>                 <td>21:09:24</td>     <th>  Log-Likelihood:    </th> <td> -132.00</td>\n",
       "</tr>\n",
       "<tr>\n",
       "  <th>No. Observations:</th>      <td>    51</td>      <th>  AIC:               </th> <td>   268.0</td>\n",
       "</tr>\n",
       "<tr>\n",
       "  <th>Df Residuals:</th>          <td>    49</td>      <th>  BIC:               </th> <td>   271.9</td>\n",
       "</tr>\n",
       "<tr>\n",
       "  <th>Df Model:</th>              <td>     1</td>      <th>                     </th>     <td> </td>   \n",
       "</tr>\n",
       "<tr>\n",
       "  <th>Covariance Type:</th>      <td>nonrobust</td>    <th>                     </th>     <td> </td>   \n",
       "</tr>\n",
       "</table>\n",
       "<table class=\"simpletable\">\n",
       "<tr>\n",
       "       <td></td>         <th>coef</th>     <th>std err</th>      <th>t</th>      <th>P>|t|</th>  <th>[0.025</th>    <th>0.975]</th>  \n",
       "</tr>\n",
       "<tr>\n",
       "  <th>const</th>      <td>    2.5712</td> <td>    1.822</td> <td>    1.411</td> <td> 0.165</td> <td>   -1.090</td> <td>    6.233</td>\n",
       "</tr>\n",
       "<tr>\n",
       "  <th>Brth18to19</th> <td>    0.1464</td> <td>    0.024</td> <td>    5.982</td> <td> 0.000</td> <td>    0.097</td> <td>    0.196</td>\n",
       "</tr>\n",
       "</table>\n",
       "<table class=\"simpletable\">\n",
       "<tr>\n",
       "  <th>Omnibus:</th>       <td> 0.886</td> <th>  Durbin-Watson:     </th> <td>   2.265</td>\n",
       "</tr>\n",
       "<tr>\n",
       "  <th>Prob(Omnibus):</th> <td> 0.642</td> <th>  Jarque-Bera (JB):  </th> <td>   0.944</td>\n",
       "</tr>\n",
       "<tr>\n",
       "  <th>Skew:</th>          <td> 0.283</td> <th>  Prob(JB):          </th> <td>   0.624</td>\n",
       "</tr>\n",
       "<tr>\n",
       "  <th>Kurtosis:</th>      <td> 2.647</td> <th>  Cond. No.          </th> <td>    295.</td>\n",
       "</tr>\n",
       "</table><br/><br/>Warnings:<br/>[1] Standard Errors assume that the covariance matrix of the errors is correctly specified."
      ],
      "text/plain": [
       "<class 'statsmodels.iolib.summary.Summary'>\n",
       "\"\"\"\n",
       "                            OLS Regression Results                            \n",
       "==============================================================================\n",
       "Dep. Variable:                 PovPct   R-squared:                       0.422\n",
       "Model:                            OLS   Adj. R-squared:                  0.410\n",
       "Method:                 Least Squares   F-statistic:                     35.78\n",
       "Date:                Fri, 18 Feb 2022   Prob (F-statistic):           2.50e-07\n",
       "Time:                        21:09:24   Log-Likelihood:                -132.00\n",
       "No. Observations:                  51   AIC:                             268.0\n",
       "Df Residuals:                      49   BIC:                             271.9\n",
       "Df Model:                           1                                         \n",
       "Covariance Type:            nonrobust                                         \n",
       "==============================================================================\n",
       "                 coef    std err          t      P>|t|      [0.025      0.975]\n",
       "------------------------------------------------------------------------------\n",
       "const          2.5712      1.822      1.411      0.165      -1.090       6.233\n",
       "Brth18to19     0.1464      0.024      5.982      0.000       0.097       0.196\n",
       "==============================================================================\n",
       "Omnibus:                        0.886   Durbin-Watson:                   2.265\n",
       "Prob(Omnibus):                  0.642   Jarque-Bera (JB):                0.944\n",
       "Skew:                           0.283   Prob(JB):                        0.624\n",
       "Kurtosis:                       2.647   Cond. No.                         295.\n",
       "==============================================================================\n",
       "\n",
       "Warnings:\n",
       "[1] Standard Errors assume that the covariance matrix of the errors is correctly specified.\n",
       "\"\"\""
      ]
     },
     "execution_count": 7,
     "metadata": {},
     "output_type": "execute_result"
    }
   ],
   "source": [
    "x1 = sm.add_constant(x)\n",
    "results = sm.OLS(y, x1).fit()\n",
    "results.summary()"
   ]
  },
  {
   "cell_type": "markdown",
   "metadata": {
    "id": "fVJyXsLO4UAD"
   },
   "source": [
    "## 8) Taking the coeffient values for the new constant and the Y variable, create a scatterplot:\n",
    "\n",
    "e.g. \n",
    "yhat = 0.1464*x + 0.25712\n",
    "fig = plt.plot(x, yhat, lw=4, c='red', label = 'regression line')"
   ]
  },
  {
   "cell_type": "code",
   "execution_count": 16,
   "metadata": {},
   "outputs": [
    {
     "data": {
      "image/png": "[encoded data removed]",
      "text/plain": [
       "<Figure size 432x288 with 1 Axes>"
      ]
     },
     "metadata": {},
     "output_type": "display_data"
    }
   ],
   "source": [
    "yhat = 0.1464*x + 0.25712\n",
    "fig = plt.plot(x, yhat, lw=4, c='red', label = 'regression line')"
   ]
  },
  {
   "cell_type": "markdown",
   "metadata": {
    "id": "RnPQCYcn4Bbq"
   },
   "source": [
    "# Problem 2: Implement code from lecture"
   ]
  },
  {
   "cell_type": "markdown",
   "metadata": {
    "id": "nBbYAVMj4HaL"
   },
   "source": [
    "## 1) Perform linear regression using the normal equation, as done in slides."
   ]
  },
  {
   "cell_type": "code",
   "execution_count": 17,
   "metadata": {},
   "outputs": [
    {
     "name": "stdout",
     "output_type": "stream",
     "text": [
      "[2.57123525 0.14643806]\n"
     ]
    }
   ],
   "source": [
    "from numpy.linalg import inv\n",
    "arr_ones = np.ones((x.size,1))\n",
    "X_b = np.c_[arr_ones,x]\n",
    "optimal_theta = inv(X_b.T.dot(X_b)).dot(X_b.T).dot(y)\n",
    "print(optimal_theta)"
   ]
  },
  {
   "cell_type": "markdown",
   "metadata": {
    "id": "56VkD2C04SaF"
   },
   "source": [
    "## 2) Perform linear regression using Scikit-Learn, as done in the slides."
   ]
  },
  {
   "cell_type": "code",
   "execution_count": 18,
   "metadata": {},
   "outputs": [
    {
     "data": {
      "text/plain": [
       "(2.5712352503086446, array([0.        , 0.14643806]))"
      ]
     },
     "execution_count": 18,
     "metadata": {},
     "output_type": "execute_result"
    }
   ],
   "source": [
    "from sklearn.linear_model import LinearRegression as LinReg\n",
    "linreg = LinReg()\n",
    "linreg.fit(x1,y)\n",
    "linreg.intercept_, linreg.coef_"
   ]
  },
  {
   "cell_type": "markdown",
   "metadata": {
    "id": "zPQRoKB__648"
   },
   "source": [
    "# Problem 3: Multivariate Linear Regression\n",
    "In this problem we will continue using the poverty dataset. Do poverty and violent crimes affect teen pregnancy?"
   ]
  },
  {
   "cell_type": "markdown",
   "metadata": {
    "id": "YSI7RrmC_H7N"
   },
   "source": [
    "## 1) import the libraries you will need:\n",
    "numpy \n",
    "pandas\n",
    "matplotlab.pyplot\n",
    "statsmodels.api"
   ]
  },
  {
   "cell_type": "code",
   "execution_count": 33,
   "metadata": {
    "executionInfo": {
     "elapsed": 4,
     "status": "ok",
     "timestamp": 1644640954361,
     "user": {
      "displayName": "Darlene Barker",
      "photoUrl": "https://lh3.googleusercontent.com/a/default-user=s64",
      "userId": "10389876396040238009"
     },
     "user_tz": 300
    },
    "id": "tx5Ru5TY_H7S"
   },
   "outputs": [],
   "source": [
    "import numpy as np\n",
    "import pandas as pd\n",
    "from sklearn.preprocessing import normalize\n",
    "import matplotlib.pyplot as plt\n",
    "import statsmodels.api as sm"
   ]
  },
  {
   "cell_type": "markdown",
   "metadata": {
    "id": "TaWWSisg_649"
   },
   "source": [
    "\n",
    "## 2) Import the dataset, poverty_2.csv, and print it.\n"
   ]
  },
  {
   "cell_type": "code",
   "execution_count": 20,
   "metadata": {},
   "outputs": [
    {
     "name": "stdout",
     "output_type": "stream",
     "text": [
      "    PovPct  ViolCrime  TeenBrth\n",
      "0     20.1       11.2      54.5\n",
      "1      7.1        9.1      39.5\n",
      "2     16.1       10.4      61.2\n",
      "3     14.9       10.4      59.9\n",
      "4     16.7       11.2      41.1\n",
      "5      8.8        5.8      47.0\n",
      "6      9.7        4.6      25.8\n",
      "7     10.3        3.5      46.3\n",
      "8     22.0       65.0      69.1\n",
      "9     16.2        7.3      44.5\n",
      "10    12.1        9.5      55.7\n",
      "11    10.3        4.7      38.2\n",
      "12    14.5        4.1      39.1\n",
      "13    12.4       10.3      42.2\n",
      "14     9.6        8.0      44.6\n",
      "15    12.2        1.8      32.5\n",
      "16    10.8        6.2      43.0\n",
      "17    14.7        7.2      51.0\n",
      "18    19.7       17.0      58.1\n",
      "19    11.2        2.0      25.4\n",
      "20    10.1       11.8      35.4\n",
      "21    11.0        3.6      23.3\n",
      "22    12.2        8.5      34.8\n",
      "23     9.2        3.9      27.5\n",
      "24    23.5       12.9      64.7\n",
      "25     9.4        8.8      44.1\n",
      "26    15.3        3.0      36.4\n",
      "27     9.6        2.9      37.0\n",
      "28    11.1       10.7      53.9\n",
      "29     5.3        1.8      20.0\n",
      "30     7.8        5.1      26.8\n",
      "31    25.3        8.8      62.4\n",
      "32    16.5        8.5      29.5\n",
      "33    12.6        9.4      52.2\n",
      "34    12.0        0.9      27.2\n",
      "35    11.5        5.4      39.5\n",
      "36    17.1       12.2      58.0\n",
      "37    11.2        4.1      36.8\n",
      "38    12.2        6.3      31.6\n",
      "39    10.6        3.3      35.6\n",
      "40    19.9        7.9      53.0\n",
      "41    14.5        1.8      38.0\n",
      "42    15.5       10.6      54.3\n",
      "43    17.4        9.0      64.4\n",
      "44     8.4        3.9      36.8\n",
      "45    10.3        2.2      24.2\n",
      "46    10.2        7.6      37.6\n",
      "47    12.5        5.1      33.0\n",
      "48    16.7        4.9      45.5\n",
      "49     8.5        4.3      32.3\n",
      "50    12.2        2.1      39.9\n"
     ]
    }
   ],
   "source": [
    "data = pd.read_csv('poverty_2.csv')\n",
    "print(data)"
   ]
  },
  {
   "cell_type": "markdown",
   "metadata": {
    "id": "3Zf-n8sbeHHL"
   },
   "source": [
    "## 3) We need to normalize the input variables."
   ]
  },
  {
   "cell_type": "code",
   "execution_count": 21,
   "metadata": {
    "executionInfo": {
     "elapsed": 119,
     "status": "ok",
     "timestamp": 1644640959178,
     "user": {
      "displayName": "Darlene Barker",
      "photoUrl": "https://lh3.googleusercontent.com/a/default-user=s64",
      "userId": "10389876396040238009"
     },
     "user_tz": 300
    },
    "id": "hO0d_GoUlC3t"
   },
   "outputs": [
    {
     "name": "stdout",
     "output_type": "stream",
     "text": [
      "[[0.20418522 0.13273497 0.17356697]\n",
      " [0.07212513 0.10784716 0.12579624]\n",
      " [0.16355135 0.1232539  0.19490456]\n",
      " [0.15136119 0.1232539  0.19076443]\n",
      " [0.16964643 0.13273497 0.13089179]\n",
      " [0.08939453 0.06873775 0.1496816 ]\n",
      " [0.09853715 0.05451615 0.08216565]\n",
      " [0.10463223 0.04147968 0.1474523 ]\n",
      " [0.22348631 0.77033686 0.22006381]\n",
      " [0.16456719 0.08651476 0.14171982]\n",
      " [0.12291747 0.1125877  0.17738862]\n",
      " [0.10463223 0.05570128 0.12165611]\n",
      " [0.1472978  0.04859048 0.12452236]\n",
      " [0.12596501 0.12206876 0.13439497]\n",
      " [0.0975213  0.09481069 0.14203829]\n",
      " [0.12393332 0.02133241 0.10350324]\n",
      " [0.10971146 0.07347829 0.13694274]\n",
      " [0.14932949 0.08532962 0.16242046]\n",
      " [0.20012184 0.20147272 0.18503194]\n",
      " [0.11377485 0.02370267 0.08089176]\n",
      " [0.10260053 0.13984577 0.11273891]\n",
      " [0.11174316 0.04266481 0.07420386]\n",
      " [0.12393332 0.10073636 0.11082808]\n",
      " [0.09345791 0.04622021 0.08757966]\n",
      " [0.23872402 0.15288224 0.20605106]\n",
      " [0.09548961 0.10429176 0.14044593]\n",
      " [0.15542457 0.03555401 0.11592363]\n",
      " [0.0975213  0.03436888 0.11783445]\n",
      " [0.112759   0.1268093  0.17165614]\n",
      " [0.05383988 0.02133241 0.0636943 ]\n",
      " [0.07923606 0.06044182 0.08535036]\n",
      " [0.25700926 0.10429176 0.19872622]\n",
      " [0.16761474 0.10073636 0.09394909]\n",
      " [0.12799671 0.11140256 0.16624212]\n",
      " [0.12190163 0.0106662  0.08662425]\n",
      " [0.11682239 0.06399722 0.12579624]\n",
      " [0.17370982 0.1445863  0.18471347]\n",
      " [0.11377485 0.04859048 0.11719751]\n",
      " [0.12393332 0.07466342 0.10063699]\n",
      " [0.10767977 0.03910941 0.11337585]\n",
      " [0.20215353 0.09362556 0.16878989]\n",
      " [0.1472978  0.02133241 0.12101917]\n",
      " [0.15745627 0.12562417 0.17293002]\n",
      " [0.17675736 0.10666203 0.20509565]\n",
      " [0.08533114 0.04622021 0.11719751]\n",
      " [0.10463223 0.02607294 0.0770701 ]\n",
      " [0.10361638 0.09007016 0.11974528]\n",
      " [0.12698086 0.06044182 0.10509559]\n",
      " [0.16964643 0.05807155 0.14490453]\n",
      " [0.08634698 0.05096075 0.10286629]\n",
      " [0.12393332 0.02488781 0.12707013]]\n"
     ]
    }
   ],
   "source": [
    "data = normalize(data, axis=0)\n",
    "print(data)"
   ]
  },
  {
   "cell_type": "markdown",
   "metadata": {
    "id": "-S46a6gpeHHL"
   },
   "source": [
    "## 4) Split the data into input variables, X, and the output variable, Y."
   ]
  },
  {
   "cell_type": "code",
   "execution_count": 43,
   "metadata": {},
   "outputs": [
    {
     "name": "stdout",
     "output_type": "stream",
     "text": [
      "X [[0.20418522 0.13273497]\n",
      " [0.07212513 0.10784716]\n",
      " [0.16355135 0.1232539 ]\n",
      " [0.15136119 0.1232539 ]\n",
      " [0.16964643 0.13273497]\n",
      " [0.08939453 0.06873775]\n",
      " [0.09853715 0.05451615]\n",
      " [0.10463223 0.04147968]\n",
      " [0.22348631 0.77033686]\n",
      " [0.16456719 0.08651476]\n",
      " [0.12291747 0.1125877 ]\n",
      " [0.10463223 0.05570128]\n",
      " [0.1472978  0.04859048]\n",
      " [0.12596501 0.12206876]\n",
      " [0.0975213  0.09481069]\n",
      " [0.12393332 0.02133241]\n",
      " [0.10971146 0.07347829]\n",
      " [0.14932949 0.08532962]\n",
      " [0.20012184 0.20147272]\n",
      " [0.11377485 0.02370267]\n",
      " [0.10260053 0.13984577]\n",
      " [0.11174316 0.04266481]\n",
      " [0.12393332 0.10073636]\n",
      " [0.09345791 0.04622021]\n",
      " [0.23872402 0.15288224]\n",
      " [0.09548961 0.10429176]\n",
      " [0.15542457 0.03555401]\n",
      " [0.0975213  0.03436888]\n",
      " [0.112759   0.1268093 ]\n",
      " [0.05383988 0.02133241]\n",
      " [0.07923606 0.06044182]\n",
      " [0.25700926 0.10429176]\n",
      " [0.16761474 0.10073636]\n",
      " [0.12799671 0.11140256]\n",
      " [0.12190163 0.0106662 ]\n",
      " [0.11682239 0.06399722]\n",
      " [0.17370982 0.1445863 ]\n",
      " [0.11377485 0.04859048]\n",
      " [0.12393332 0.07466342]\n",
      " [0.10767977 0.03910941]\n",
      " [0.20215353 0.09362556]\n",
      " [0.1472978  0.02133241]\n",
      " [0.15745627 0.12562417]\n",
      " [0.17675736 0.10666203]\n",
      " [0.08533114 0.04622021]\n",
      " [0.10463223 0.02607294]\n",
      " [0.10361638 0.09007016]\n",
      " [0.12698086 0.06044182]\n",
      " [0.16964643 0.05807155]\n",
      " [0.08634698 0.05096075]\n",
      " [0.12393332 0.02488781]]\n",
      "Y [[0.17356697]\n",
      " [0.12579624]\n",
      " [0.19490456]\n",
      " [0.19076443]\n",
      " [0.13089179]\n",
      " [0.1496816 ]\n",
      " [0.08216565]\n",
      " [0.1474523 ]\n",
      " [0.22006381]\n",
      " [0.14171982]\n",
      " [0.17738862]\n",
      " [0.12165611]\n",
      " [0.12452236]\n",
      " [0.13439497]\n",
      " [0.14203829]\n",
      " [0.10350324]\n",
      " [0.13694274]\n",
      " [0.16242046]\n",
      " [0.18503194]\n",
      " [0.08089176]\n",
      " [0.11273891]\n",
      " [0.07420386]\n",
      " [0.11082808]\n",
      " [0.08757966]\n",
      " [0.20605106]\n",
      " [0.14044593]\n",
      " [0.11592363]\n",
      " [0.11783445]\n",
      " [0.17165614]\n",
      " [0.0636943 ]\n",
      " [0.08535036]\n",
      " [0.19872622]\n",
      " [0.09394909]\n",
      " [0.16624212]\n",
      " [0.08662425]\n",
      " [0.12579624]\n",
      " [0.18471347]\n",
      " [0.11719751]\n",
      " [0.10063699]\n",
      " [0.11337585]\n",
      " [0.16878989]\n",
      " [0.12101917]\n",
      " [0.17293002]\n",
      " [0.20509565]\n",
      " [0.11719751]\n",
      " [0.0770701 ]\n",
      " [0.11974528]\n",
      " [0.10509559]\n",
      " [0.14490453]\n",
      " [0.10286629]\n",
      " [0.12707013]]\n"
     ]
    }
   ],
   "source": [
    "X = data[:,[0,1]]\n",
    "Y = data[:,2:]\n",
    "print(\"X\",X)\n",
    "print(\"Y\",Y)"
   ]
  },
  {
   "cell_type": "markdown",
   "metadata": {
    "id": "DkF0OabICS20"
   },
   "source": [
    "## 5) Graph the dataset with a seed of 42.\n",
    "Replace the FILLINTHESEVALUES fields."
   ]
  },
  {
   "cell_type": "code",
   "execution_count": 48,
   "metadata": {
    "colab": {
     "base_uri": "https://localhost:8080/",
     "height": 248
    },
    "executionInfo": {
     "elapsed": 313,
     "status": "ok",
     "timestamp": 1644640963541,
     "user": {
      "displayName": "Darlene Barker",
      "photoUrl": "https://lh3.googleusercontent.com/a/default-user=s64",
      "userId": "10389876396040238009"
     },
     "user_tz": 300
    },
    "id": "9eJ7bw4ycZib",
    "outputId": "b3f61936-00f4-45f5-9e68-02c1ce91acfd"
   },
   "outputs": [
    {
     "ename": "ValueError",
     "evalue": "Unknown projection '3D'",
     "output_type": "error",
     "traceback": [
      "\u001b[1;31m---------------------------------------------------------------------------\u001b[0m",
      "\u001b[1;31mKeyError\u001b[0m                                  Traceback (most recent call last)",
      "\u001b[1;32mC:\\Program Files (x86)\\Microsoft Visual Studio\\Shared\\Anaconda3_64\\lib\\site-packages\\matplotlib\\projections\\__init__.py\u001b[0m in \u001b[0;36mget_projection_class\u001b[1;34m(projection)\u001b[0m\n\u001b[0;32m     62\u001b[0m     \u001b[1;32mtry\u001b[0m\u001b[1;33m:\u001b[0m\u001b[1;33m\u001b[0m\u001b[0m\n\u001b[1;32m---> 63\u001b[1;33m         \u001b[1;32mreturn\u001b[0m \u001b[0mprojection_registry\u001b[0m\u001b[1;33m.\u001b[0m\u001b[0mget_projection_class\u001b[0m\u001b[1;33m(\u001b[0m\u001b[0mprojection\u001b[0m\u001b[1;33m)\u001b[0m\u001b[1;33m\u001b[0m\u001b[0m\n\u001b[0m\u001b[0;32m     64\u001b[0m     \u001b[1;32mexcept\u001b[0m \u001b[0mKeyError\u001b[0m\u001b[1;33m:\u001b[0m\u001b[1;33m\u001b[0m\u001b[0m\n",
      "\u001b[1;32mC:\\Program Files (x86)\\Microsoft Visual Studio\\Shared\\Anaconda3_64\\lib\\site-packages\\matplotlib\\projections\\__init__.py\u001b[0m in \u001b[0;36mget_projection_class\u001b[1;34m(self, name)\u001b[0m\n\u001b[0;32m     28\u001b[0m         \"\"\"\n\u001b[1;32m---> 29\u001b[1;33m         \u001b[1;32mreturn\u001b[0m \u001b[0mself\u001b[0m\u001b[1;33m.\u001b[0m\u001b[0m_all_projection_types\u001b[0m\u001b[1;33m[\u001b[0m\u001b[0mname\u001b[0m\u001b[1;33m]\u001b[0m\u001b[1;33m\u001b[0m\u001b[0m\n\u001b[0m\u001b[0;32m     30\u001b[0m \u001b[1;33m\u001b[0m\u001b[0m\n",
      "\u001b[1;31mKeyError\u001b[0m: '3D'",
      "\nDuring handling of the above exception, another exception occurred:\n",
      "\u001b[1;31mValueError\u001b[0m                                Traceback (most recent call last)",
      "\u001b[1;32m<ipython-input-48-8a25c8894fbb>\u001b[0m in \u001b[0;36m<module>\u001b[1;34m()\u001b[0m\n\u001b[0;32m      3\u001b[0m \u001b[1;33m\u001b[0m\u001b[0m\n\u001b[0;32m      4\u001b[0m \u001b[0mfig\u001b[0m \u001b[1;33m=\u001b[0m \u001b[0mplt\u001b[0m\u001b[1;33m.\u001b[0m\u001b[0mfigure\u001b[0m\u001b[1;33m(\u001b[0m\u001b[1;33m)\u001b[0m\u001b[1;33m\u001b[0m\u001b[0m\n\u001b[1;32m----> 5\u001b[1;33m \u001b[0max\u001b[0m \u001b[1;33m=\u001b[0m \u001b[0mfig\u001b[0m\u001b[1;33m.\u001b[0m\u001b[0madd_subplot\u001b[0m\u001b[1;33m(\u001b[0m\u001b[1;36m111\u001b[0m\u001b[1;33m,\u001b[0m \u001b[0mprojection\u001b[0m \u001b[1;33m=\u001b[0m \u001b[1;34m'3D'\u001b[0m\u001b[1;33m)\u001b[0m\u001b[1;33m\u001b[0m\u001b[0m\n\u001b[0m\u001b[0;32m      6\u001b[0m \u001b[1;33m\u001b[0m\u001b[0m\n\u001b[0;32m      7\u001b[0m \u001b[0mxs\u001b[0m \u001b[1;33m=\u001b[0m \u001b[0mX\u001b[0m\u001b[1;33m[\u001b[0m\u001b[1;33m:\u001b[0m\u001b[1;33m,\u001b[0m\u001b[1;36m0\u001b[0m\u001b[1;33m]\u001b[0m\u001b[1;33m\u001b[0m\u001b[0m\n",
      "\u001b[1;32mC:\\Program Files (x86)\\Microsoft Visual Studio\\Shared\\Anaconda3_64\\lib\\site-packages\\matplotlib\\figure.py\u001b[0m in \u001b[0;36madd_subplot\u001b[1;34m(self, *args, **kwargs)\u001b[0m\n\u001b[0;32m   1219\u001b[0m         \u001b[1;32melse\u001b[0m\u001b[1;33m:\u001b[0m\u001b[1;33m\u001b[0m\u001b[0m\n\u001b[0;32m   1220\u001b[0m             projection_class, kwargs, key = process_projection_requirements(\n\u001b[1;32m-> 1221\u001b[1;33m                 self, *args, **kwargs)\n\u001b[0m\u001b[0;32m   1222\u001b[0m \u001b[1;33m\u001b[0m\u001b[0m\n\u001b[0;32m   1223\u001b[0m             \u001b[1;31m# try to find the axes with this key in the stack\u001b[0m\u001b[1;33m\u001b[0m\u001b[1;33m\u001b[0m\u001b[0m\n",
      "\u001b[1;32mC:\\Program Files (x86)\\Microsoft Visual Studio\\Shared\\Anaconda3_64\\lib\\site-packages\\matplotlib\\projections\\__init__.py\u001b[0m in \u001b[0;36mprocess_projection_requirements\u001b[1;34m(figure, *args, **kwargs)\u001b[0m\n\u001b[0;32m     89\u001b[0m \u001b[1;33m\u001b[0m\u001b[0m\n\u001b[0;32m     90\u001b[0m     \u001b[1;32mif\u001b[0m \u001b[0misinstance\u001b[0m\u001b[1;33m(\u001b[0m\u001b[0mprojection\u001b[0m\u001b[1;33m,\u001b[0m \u001b[0msix\u001b[0m\u001b[1;33m.\u001b[0m\u001b[0mstring_types\u001b[0m\u001b[1;33m)\u001b[0m \u001b[1;32mor\u001b[0m \u001b[0mprojection\u001b[0m \u001b[1;32mis\u001b[0m \u001b[1;32mNone\u001b[0m\u001b[1;33m:\u001b[0m\u001b[1;33m\u001b[0m\u001b[0m\n\u001b[1;32m---> 91\u001b[1;33m         \u001b[0mprojection_class\u001b[0m \u001b[1;33m=\u001b[0m \u001b[0mget_projection_class\u001b[0m\u001b[1;33m(\u001b[0m\u001b[0mprojection\u001b[0m\u001b[1;33m)\u001b[0m\u001b[1;33m\u001b[0m\u001b[0m\n\u001b[0m\u001b[0;32m     92\u001b[0m     \u001b[1;32melif\u001b[0m \u001b[0mhasattr\u001b[0m\u001b[1;33m(\u001b[0m\u001b[0mprojection\u001b[0m\u001b[1;33m,\u001b[0m \u001b[1;34m'_as_mpl_axes'\u001b[0m\u001b[1;33m)\u001b[0m\u001b[1;33m:\u001b[0m\u001b[1;33m\u001b[0m\u001b[0m\n\u001b[0;32m     93\u001b[0m         \u001b[0mprojection_class\u001b[0m\u001b[1;33m,\u001b[0m \u001b[0mextra_kwargs\u001b[0m \u001b[1;33m=\u001b[0m \u001b[0mprojection\u001b[0m\u001b[1;33m.\u001b[0m\u001b[0m_as_mpl_axes\u001b[0m\u001b[1;33m(\u001b[0m\u001b[1;33m)\u001b[0m\u001b[1;33m\u001b[0m\u001b[0m\n",
      "\u001b[1;32mC:\\Program Files (x86)\\Microsoft Visual Studio\\Shared\\Anaconda3_64\\lib\\site-packages\\matplotlib\\projections\\__init__.py\u001b[0m in \u001b[0;36mget_projection_class\u001b[1;34m(projection)\u001b[0m\n\u001b[0;32m     63\u001b[0m         \u001b[1;32mreturn\u001b[0m \u001b[0mprojection_registry\u001b[0m\u001b[1;33m.\u001b[0m\u001b[0mget_projection_class\u001b[0m\u001b[1;33m(\u001b[0m\u001b[0mprojection\u001b[0m\u001b[1;33m)\u001b[0m\u001b[1;33m\u001b[0m\u001b[0m\n\u001b[0;32m     64\u001b[0m     \u001b[1;32mexcept\u001b[0m \u001b[0mKeyError\u001b[0m\u001b[1;33m:\u001b[0m\u001b[1;33m\u001b[0m\u001b[0m\n\u001b[1;32m---> 65\u001b[1;33m         \u001b[1;32mraise\u001b[0m \u001b[0mValueError\u001b[0m\u001b[1;33m(\u001b[0m\u001b[1;34m\"Unknown projection '%s'\"\u001b[0m \u001b[1;33m%\u001b[0m \u001b[0mprojection\u001b[0m\u001b[1;33m)\u001b[0m\u001b[1;33m\u001b[0m\u001b[0m\n\u001b[0m\u001b[0;32m     66\u001b[0m \u001b[1;33m\u001b[0m\u001b[0m\n\u001b[0;32m     67\u001b[0m \u001b[1;33m\u001b[0m\u001b[0m\n",
      "\u001b[1;31mValueError\u001b[0m: Unknown projection '3D'"
     ]
    },
    {
     "data": {
      "text/plain": [
       "<Figure size 432x288 with 0 Axes>"
      ]
     },
     "metadata": {},
     "output_type": "display_data"
    }
   ],
   "source": [
    "from mpl_toolkits.mplot3d import Axes3D\n",
    "np.random.seed(42)\n",
    "\n",
    "fig = plt.figure()\n",
    "ax = fig.add_subplot(111, projection = '3D')\n",
    "\n",
    "xs = X[:,0]\n",
    "ys = X[:,1]\n",
    "zs = Y\n",
    "ax.scatter(xs, ys, zs)\n",
    "\n",
    "ax.set_xlabel('PovPct')\n",
    "ax.set_ylabel('ViolCrime')\n",
    "ax.set_zlabel('TeenBrth')\n",
    "\n",
    "plt.show()"
   ]
  },
  {
   "cell_type": "markdown",
   "metadata": {
    "id": "Tve3fCf4Vkwp"
   },
   "source": [
    "## 6) Implement  Gradient Descent.\n",
    "This section has be provided. Please run and understand the code."
   ]
  },
  {
   "cell_type": "code",
   "execution_count": null,
   "metadata": {
    "executionInfo": {
     "elapsed": 2,
     "status": "ok",
     "timestamp": 1644640976604,
     "user": {
      "displayName": "Darlene Barker",
      "photoUrl": "https://lh3.googleusercontent.com/a/default-user=s64",
      "userId": "10389876396040238009"
     },
     "user_tz": 300
    },
    "id": "5u9UlY8KVvE7"
   },
   "outputs": [],
   "source": [
    "# hyperparameters\n",
    "learning_rate = 0.05\n",
    "max_iteration = 500\n",
    "\n",
    "#parameters\n",
    "theta = np.zeros((data.shape[1], 1))"
   ]
  },
  {
   "cell_type": "code",
   "execution_count": null,
   "metadata": {
    "executionInfo": {
     "elapsed": 117,
     "status": "ok",
     "timestamp": 1644640980832,
     "user": {
      "displayName": "Darlene Barker",
      "photoUrl": "https://lh3.googleusercontent.com/a/default-user=s64",
      "userId": "10389876396040238009"
     },
     "user_tz": 300
    },
    "id": "o2ec_B8VDjCu"
   },
   "outputs": [],
   "source": [
    "def hypothesis (theta, X) :\n",
    "  tempX = np.ones((X.shape[0], X.shape[1] + 1))\n",
    "  tempX[:,1:] = X\n",
    "  return np.matmul(tempX, theta)"
   ]
  },
  {
   "cell_type": "code",
   "execution_count": null,
   "metadata": {
    "executionInfo": {
     "elapsed": 138,
     "status": "ok",
     "timestamp": 1644640982783,
     "user": {
      "displayName": "Darlene Barker",
      "photoUrl": "https://lh3.googleusercontent.com/a/default-user=s64",
      "userId": "10389876396040238009"
     },
     "user_tz": 300
    },
    "id": "lLP0RAS1PQQ4"
   },
   "outputs": [],
   "source": [
    "def loss (theta, X, Y) :\n",
    "  return np.average(np.square(Y - h(theta, X))) / 2"
   ]
  },
  {
   "cell_type": "code",
   "execution_count": null,
   "metadata": {
    "executionInfo": {
     "elapsed": 131,
     "status": "ok",
     "timestamp": 1644640984238,
     "user": {
      "displayName": "Darlene Barker",
      "photoUrl": "https://lh3.googleusercontent.com/a/default-user=s64",
      "userId": "10389876396040238009"
     },
     "user_tz": 300
    },
    "id": "Nue2ZoX_DnrU"
   },
   "outputs": [],
   "source": [
    "def gradient (theta, X, Y) :\n",
    "  tempX = np.ones((X.shape[0], X.shape[1] + 1))\n",
    "  tempX[:,1:] = X\n",
    "  d_theta = - np.average((Y - h(theta, X)) * tempX, axis= 0)\n",
    "  d_theta = d_theta.reshape((d_theta.shape[0], 1))\n",
    "  return d_theta"
   ]
  },
  {
   "cell_type": "code",
   "execution_count": null,
   "metadata": {
    "executionInfo": {
     "elapsed": 469,
     "status": "ok",
     "timestamp": 1644640985661,
     "user": {
      "displayName": "Darlene Barker",
      "photoUrl": "https://lh3.googleusercontent.com/a/default-user=s64",
      "userId": "10389876396040238009"
     },
     "user_tz": 300
    },
    "id": "dBeDemDvDrif"
   },
   "outputs": [],
   "source": [
    "def gradient_descent (theta, X, Y, learning_rate, max_iteration, gap) :\n",
    "  cost = np.zeros(max_iteration)\n",
    "  for i in range(max_iteration) :\n",
    "    d_theta = gradient (theta, X, Y)\n",
    "    theta = theta - learning_rate * d_theta\n",
    "    cost[i] = loss(theta, X, Y)\n",
    "    if i % gap == 0 :\n",
    "      print ('iteration : ', i, ' loss : ', loss(theta, X, Y)) \n",
    "  return theta, cost"
   ]
  },
  {
   "cell_type": "code",
   "execution_count": null,
   "metadata": {
    "colab": {
     "base_uri": "https://localhost:8080/"
    },
    "executionInfo": {
     "elapsed": 115,
     "status": "ok",
     "timestamp": 1644640988158,
     "user": {
      "displayName": "Darlene Barker",
      "photoUrl": "https://lh3.googleusercontent.com/a/default-user=s64",
      "userId": "10389876396040238009"
     },
     "user_tz": 300
    },
    "id": "5ufuj_wODwQy",
    "outputId": "053dafac-f6d7-4e3f-c9e1-6e46c83b8d6a"
   },
   "outputs": [],
   "source": [
    "# Training model\n",
    "theta, cost = gradient_descent (theta, X, Y, learning_rate, max_iteration, 100)"
   ]
  },
  {
   "cell_type": "code",
   "execution_count": null,
   "metadata": {
    "colab": {
     "base_uri": "https://localhost:8080/"
    },
    "executionInfo": {
     "elapsed": 124,
     "status": "ok",
     "timestamp": 1644641377886,
     "user": {
      "displayName": "Darlene Barker",
      "photoUrl": "https://lh3.googleusercontent.com/a/default-user=s64",
      "userId": "10389876396040238009"
     },
     "user_tz": 300
    },
    "id": "vvpjzEMhD1x8",
    "outputId": "bda03a8b-efa6-40b3-eec6-9ea564136913"
   },
   "outputs": [],
   "source": [
    "#optimal value is :\n",
    "theta"
   ]
  },
  {
   "cell_type": "code",
   "execution_count": null,
   "metadata": {
    "colab": {
     "base_uri": "https://localhost:8080/",
     "height": 295
    },
    "executionInfo": {
     "elapsed": 266,
     "status": "ok",
     "timestamp": 1644641393513,
     "user": {
      "displayName": "Darlene Barker",
      "photoUrl": "https://lh3.googleusercontent.com/a/default-user=s64",
      "userId": "10389876396040238009"
     },
     "user_tz": 300
    },
    "id": "IU5vvSCtD6mR",
    "outputId": "7bac1766-7efa-4c71-90a8-d91aa3017f0c"
   },
   "outputs": [],
   "source": [
    "#plot cost\n",
    "fig, ax = plt.subplots()  \n",
    "ax.plot(np.arange(max_iteration), cost, 'r')  \n",
    "ax.legend(loc='upper right', labels=['batch gradient descent'])\n",
    "ax.set_xlabel('Iterations')  \n",
    "ax.set_ylabel('Cost')  \n",
    "ax.set_title('Error vs. Training Epoch')  \n",
    "\n",
    "plt.show()"
   ]
  },
  {
   "cell_type": "markdown",
   "metadata": {
    "id": "H6J6BrZ6EID4"
   },
   "source": [
    "## 7) Implement Stochastic Gradient Descent. Please run."
   ]
  },
  {
   "cell_type": "code",
   "execution_count": null,
   "metadata": {
    "executionInfo": {
     "elapsed": 155,
     "status": "ok",
     "timestamp": 1644641007501,
     "user": {
      "displayName": "Darlene Barker",
      "photoUrl": "https://lh3.googleusercontent.com/a/default-user=s64",
      "userId": "10389876396040238009"
     },
     "user_tz": 300
    },
    "id": "tUZtoNtNEVU1"
   },
   "outputs": [],
   "source": [
    "def stochastic_gradient_descent (theta, X, Y, learning_rate, max_iteration, gap) :\n",
    "  cost = np.zeros(max_iteration)\n",
    "  for i in range(max_iteration) :\n",
    "    for j in range(X.shape[0]):\n",
    "      d_theta = gradient (theta, X[j,:].reshape(1, X.shape[1]), Y[j,:].reshape(1, 1))\n",
    "      theta = theta - learning_rate * d_theta\n",
    "    \n",
    "    cost[i] = loss(theta, X, Y)\n",
    "    if i % gap == 0 :\n",
    "      print ('iteration : ', i, ' loss : ', loss(theta, X, Y)) \n",
    "  return theta, cost"
   ]
  },
  {
   "cell_type": "code",
   "execution_count": null,
   "metadata": {
    "executionInfo": {
     "elapsed": 129,
     "status": "ok",
     "timestamp": 1644641009568,
     "user": {
      "displayName": "Darlene Barker",
      "photoUrl": "https://lh3.googleusercontent.com/a/default-user=s64",
      "userId": "10389876396040238009"
     },
     "user_tz": 300
    },
    "id": "sCqvlEunEeN7"
   },
   "outputs": [],
   "source": [
    "theta_stoc = np.zeros((data.shape[1], 1))"
   ]
  },
  {
   "cell_type": "code",
   "execution_count": null,
   "metadata": {
    "colab": {
     "base_uri": "https://localhost:8080/"
    },
    "executionInfo": {
     "elapsed": 910,
     "status": "ok",
     "timestamp": 1644641011368,
     "user": {
      "displayName": "Darlene Barker",
      "photoUrl": "https://lh3.googleusercontent.com/a/default-user=s64",
      "userId": "10389876396040238009"
     },
     "user_tz": 300
    },
    "id": "UkEj9jgJE59l",
    "outputId": "0e5cc181-ce6c-4db1-a115-5c1b9c84ad08"
   },
   "outputs": [],
   "source": [
    "theta_stoc, cost_stoc = stochastic_gradient_descent (theta_stoc, X, Y, learning_rate, max_iteration, 100)"
   ]
  },
  {
   "cell_type": "code",
   "execution_count": null,
   "metadata": {
    "colab": {
     "base_uri": "https://localhost:8080/",
     "height": 295
    },
    "executionInfo": {
     "elapsed": 296,
     "status": "ok",
     "timestamp": 1644641012255,
     "user": {
      "displayName": "Darlene Barker",
      "photoUrl": "https://lh3.googleusercontent.com/a/default-user=s64",
      "userId": "10389876396040238009"
     },
     "user_tz": 300
    },
    "id": "t1l_uNl7FSev",
    "outputId": "6a3b6ea5-b8f9-47c6-8d69-315e3ad76500"
   },
   "outputs": [],
   "source": [
    "#plot the cost\n",
    "fig, ax = plt.subplots()  \n",
    "ax.plot(np.arange(max_iteration), cost, 'r')  \n",
    "ax.plot(np.arange(max_iteration), cost_stoc, 'b')  \n",
    "#ax.plot(np.arange(max_iteration), mb_cost, 'g')  \n",
    "ax.legend(loc='upper right', labels=['batch gradient descent', 'stochastic gradient descent'])#, 'mini-batch gradient descent'])\n",
    "ax.set_xlabel('Iterations')  \n",
    "ax.set_ylabel('Cost')  \n",
    "ax.set_title('Error vs. Training Epoch')  \n",
    "\n",
    "plt.show()"
   ]
  },
  {
   "cell_type": "code",
   "execution_count": null,
   "metadata": {
    "colab": {
     "base_uri": "https://localhost:8080/",
     "height": 248
    },
    "executionInfo": {
     "elapsed": 439,
     "status": "ok",
     "timestamp": 1644641033996,
     "user": {
      "displayName": "Darlene Barker",
      "photoUrl": "https://lh3.googleusercontent.com/a/default-user=s64",
      "userId": "10389876396040238009"
     },
     "user_tz": 300
    },
    "id": "zzfzq8IuIEDW",
    "outputId": "b428fd45-d073-41ff-a817-d7f0377f85dd"
   },
   "outputs": [],
   "source": [
    "np.random.seed(42)\n",
    "\n",
    "fig = plt.figure()\n",
    "ax = fig.add_subplot(111, projection='3d')\n",
    "\n",
    "xs = X[:, 0]\n",
    "ys = X[:, 1]\n",
    "zs = Y\n",
    "ax.scatter(xs, ys, zs)\n",
    "\n",
    "ax.set_xlabel('PovPct')\n",
    "ax.set_ylabel('ViolCrime')\n",
    "ax.set_zlabel('TeenBrth')\n",
    "\n",
    "# new \n",
    "x = y = np.arange(0, 0.3, 0.05)\n",
    "xp, yp = np.meshgrid(x, y)\n",
    "z = np.array([h(theta, np.array([[x,y]]))[0, 0] for x,y in zip(np.ravel(xp), np.ravel(yp))])\n",
    "zp = z.reshape(xp.shape)\n",
    "\n",
    "ax.plot_surface(xp, yp, zp, alpha=0.7)\n",
    "\n",
    "plt.show()"
   ]
  },
  {
   "cell_type": "markdown",
   "metadata": {
    "id": "16472KMCdjHL"
   },
   "source": [
    "# Problem 4, predict house price.\n",
    "\n",
    "* import real_estate.csv \n",
    "* Are there any null values in the dataset? Drop any missing data if exist. \n",
    "* Create X as a 1-D array of the distance to the nearest MRT station, and y as the housing price\n",
    "* What is the number of samples in the data set? To do this, you can look at the \"shape\" of X and y\n",
    "* Split the data into train and test sets using sklearn's train_test_split, with test_size = 1/3\n",
    "* Find the line of best fit using a Linear Regression and show the result of coefficients and intercept (you can use sklearn's linear regression)\n",
    "* Using the predict method, make predictions for the test set and evaluate the performance (e.g., MSE or other metrics)."
   ]
  },
  {
   "cell_type": "code",
   "execution_count": null,
   "metadata": {},
   "outputs": [],
   "source": []
  }
 ],
 "metadata": {
  "colab": {
   "collapsed_sections": [
    "fajTj7WydVkh",
    "RnPQCYcn4Bbq"
   ],
   "name": "Assignment#2_v2.ipynb",
   "provenance": []
  },
  "kernelspec": {
   "display_name": "Python 3",
   "language": "python",
   "name": "python3"
  },
  "language_info": {
   "codemirror_mode": {
    "name": "ipython",
    "version": 3
   },
   "file_extension": ".py",
   "mimetype": "text/x-python",
   "name": "python",
   "nbconvert_exporter": "python",
   "pygments_lexer": "ipython3",
   "version": "3.6.5"
  }
 },
 "nbformat": 4,
 "nbformat_minor": 1
}
